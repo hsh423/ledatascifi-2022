{
 "cells": [
  {
   "cell_type": "markdown",
   "id": "698f3156-67e4-4082-aa1c-77a60dfe973c",
   "metadata": {},
   "source": [
    "# Plotting\n",
    "\n",
    "We will plot with 3 datasets this week. Let's load them. "
   ]
  },
  {
   "cell_type": "code",
   "execution_count": 1,
   "id": "f6794d14-ac43-4499-9d73-d8b2902ff1a3",
   "metadata": {},
   "outputs": [],
   "source": [
    "import datetime\n",
    "\n",
    "import matplotlib.pyplot as plt\n",
    "import numpy as np\n",
    "import pandas as pd\n",
    "import pandas_datareader as pdr  # IF NECESSARY, from terminal: pip install pandas_datareader\n",
    "import seaborn as sns\n",
    "from numpy.random import default_rng\n",
    "\n",
    "# these three are used to open the CCM dataset:\n",
    "from io import BytesIO\n",
    "from zipfile import ZipFile\n",
    "from urllib.request import urlopen\n",
    "\n",
    "pd.set_option(\"display.max_rows\", 10)  # display option for pandas\n",
    "# more here: https://pandas.pydata.org/pandas-docs/stable/user_guide/options.html"
   ]
  },
  {
   "cell_type": "markdown",
   "id": "f6a5aeb6-713e-458b-a94b-494a3a153447",
   "metadata": {},
   "source": [
    "## Load macro_data"
   ]
  },
  {
   "cell_type": "code",
   "execution_count": 2,
   "id": "831bc97e-80a2-4a39-bc7f-17c666428872",
   "metadata": {},
   "outputs": [],
   "source": [
    "# LOAD DATA AND CONVERT TO ANNUAL\n",
    "\n",
    "start = 1990 # pandas datareader can infer these are years\n",
    "end = 2018\n",
    "macro_data = pdr.data.DataReader(['CAUR','MIUR','PAUR', # unemployment \n",
    "                                  'LXXRSA','DEXRSA','WDXRSA', # case shiller index in LA, Detroit, DC (no PA  available!)\n",
    "                                  'MEHOINUSCAA672N','MEHOINUSMIA672N','MEHOINUSPAA672N'], #  \n",
    "                                 'fred', start, end)\n",
    "macro_data = macro_data.resample('Y').first() # get's the first observation for each variable in a given year\n",
    "\n",
    "# CLEAN UP THE FORMATING SOMEWHAT\n",
    "\n",
    "macro_data.index = macro_data.index.year\n",
    "macro_data.columns=pd.MultiIndex.from_tuples([\n",
    "    ('Unemployment','CA'),('Unemployment','MI'),('Unemployment','PA'),\n",
    "    ('HouseIdx','CA'),('HouseIdx','MI'),('HouseIdx','PA'),\n",
    "    ('MedIncome','CA'),('MedIncome','MI'),('MedIncome','PA')\n",
    "    ])\n",
    "\n"
   ]
  },
  {
   "cell_type": "code",
   "execution_count": 3,
   "id": "2156bca5-e0af-4142-b867-d9ed1c1cf080",
   "metadata": {},
   "outputs": [],
   "source": [
    "year_state_tall = macro_data.stack().reset_index().rename(columns={'level_1':'state'}).sort_values(['state','DATE'])    \n",
    "\n",
    "year_state_wide = macro_data\n",
    "# one level names\n",
    "year_state_wide.columns=[\n",
    "    'Unemployment_CA','Unemployment_MI','Unemployment_PA',\n",
    "    'HouseIdx_CA','HouseIdx_MI','HouseIdx_PA',\n",
    "    'MedIncome_CA','MedIncome_MI','MedIncome_PA'\n",
    "    ]"
   ]
  },
  {
   "cell_type": "markdown",
   "id": "58480bab-54c3-4c78-9f27-320b31177a73",
   "metadata": {},
   "source": [
    "## And load CCM data\n",
    "\n",
    "First, load the data"
   ]
  },
  {
   "cell_type": "code",
   "execution_count": 4,
   "id": "3c4cf59b-7f2a-42c6-8bad-a0e8d095b6d0",
   "metadata": {},
   "outputs": [],
   "source": [
    "url = 'https://github.com/LeDataSciFi/ledatascifi-2022/blob/main/data/CCM_cleaned_for_class.zip?raw=true'\n",
    "\n",
    "#firms = pd.read_stata(url)   \n",
    "# <-- that code would work, but GH said it was too big and\n",
    "# forced me to zip it, so here is the work around to download it:\n",
    "\n",
    "with urlopen(url) as request:\n",
    "    data = BytesIO(request.read())\n",
    "\n",
    "with ZipFile(data) as archive:\n",
    "    with archive.open(archive.namelist()[0]) as stata:\n",
    "        ccm = pd.read_stata(stata)"
   ]
  },
  {
   "cell_type": "markdown",
   "id": "88a0321d-f678-4d04-8dbc-68c037c78f4a",
   "metadata": {
    "tags": []
   },
   "source": [
    "## Sidebar: Here's a fun EDA hack:\n",
    "\n",
    "https://github.com/pandas-profiling/pandas-profiling#examples\n",
    "\n",
    "Notes\n",
    "- Slow with huge datasets\n",
    "- Doesn't wrk with multiindex column names (must be \"one level\")"
   ]
  },
  {
   "cell_type": "code",
   "execution_count": 5,
   "id": "ec1365a8-38e2-4ab6-bb7d-7e1b8f0ed455",
   "metadata": {},
   "outputs": [],
   "source": [
    "# install new package (run this one time only)\n",
    "# !pip install pandas-profiling[notebook]"
   ]
  },
  {
   "cell_type": "code",
   "execution_count": 6,
   "id": "49faef62-8691-4fba-9420-b62e894c8e03",
   "metadata": {},
   "outputs": [
    {
     "ename": "ModuleNotFoundError",
     "evalue": "No module named 'pandas_profiling'",
     "output_type": "error",
     "traceback": [
      "\u001b[0;31m---------------------------------------------------------------------------\u001b[0m",
      "\u001b[0;31mModuleNotFoundError\u001b[0m                       Traceback (most recent call last)",
      "\u001b[0;32m/var/folders/76/3_5bqmgn11x1mpc_l1bsgr700000gn/T/ipykernel_951/2892587243.py\u001b[0m in \u001b[0;36m<module>\u001b[0;34m\u001b[0m\n\u001b[0;32m----> 1\u001b[0;31m \u001b[0;32mfrom\u001b[0m \u001b[0mpandas_profiling\u001b[0m \u001b[0;32mimport\u001b[0m \u001b[0mProfileReport\u001b[0m\u001b[0;34m\u001b[0m\u001b[0;34m\u001b[0m\u001b[0m\n\u001b[0m\u001b[1;32m      2\u001b[0m \u001b[0;34m\u001b[0m\u001b[0m\n\u001b[1;32m      3\u001b[0m \u001b[0;31m# create the report:\u001b[0m\u001b[0;34m\u001b[0m\u001b[0;34m\u001b[0m\u001b[0m\n\u001b[1;32m      4\u001b[0m \u001b[0;31m# profile = ProfileReport(macro_data, title=\"Pandas Profiling Report\")\u001b[0m\u001b[0;34m\u001b[0m\u001b[0;34m\u001b[0m\u001b[0m\n\u001b[1;32m      5\u001b[0m \u001b[0;31m# profile\u001b[0m\u001b[0;34m\u001b[0m\u001b[0;34m\u001b[0m\u001b[0m\n",
      "\u001b[0;31mModuleNotFoundError\u001b[0m: No module named 'pandas_profiling'"
     ]
    }
   ],
   "source": [
    "from pandas_profiling import ProfileReport\n",
    "\n",
    "# create the report:\n",
    "# profile = ProfileReport(macro_data, title=\"Pandas Profiling Report\")\n",
    "# profile\n",
    "\n",
    "### THIS WON'T RUN ON macro_data yet:\n",
    "### NEED TO ADJUST THIS DATASET TO RUN A PROFILE\n",
    "### COLUMN NAMES NEED TO BE SINGLE LEVEL STRINGS (NOT MULTIINDEX COL NAMES)\n",
    "### OR CONVERT TO TALL SHAPE"
   ]
  },
  {
   "cell_type": "markdown",
   "id": "2c651052-4760-4e6a-a2cf-8bb9c929df17",
   "metadata": {},
   "source": [
    "From the `year_state` data (wide or tall):\n",
    "\n",
    "- Q0. How has median income has evolved over time for PA?\n",
    "    - 920am: Wasti and Lana\n",
    "    - 1045am: Jake and Cole\n",
    "- Q1. How has unemployment changes has evolved over time for PA?   \n",
    "- Q2. How has unemployment changes  has evolved over time for all states (view as one var)?  \n",
    "- Q3. How has unemployment changes  has evolved over time for all states (separately)  \n",
    "- Q4. How does unemployment changes vary with median income growth?\n",
    "\n",
    "From the `ccm` data:\n",
    "\n",
    "- Q5. Plot the distribution of R&D (`xrd_a`). Bonuses:\n",
    "    - deal with outliers\n",
    "    - add a title\n",
    "    - change the x and y axis titles\n",
    "- Q6: Compare R&D and CAPX. Bonuses:\n",
    "    - don't plot outliers\n",
    "    - avoid oversaturated plot"
   ]
  },
  {
   "cell_type": "code",
   "execution_count": 8,
   "id": "dd82a705",
   "metadata": {},
   "outputs": [
    {
     "data": {
      "text/html": [
       "<div>\n",
       "<style scoped>\n",
       "    .dataframe tbody tr th:only-of-type {\n",
       "        vertical-align: middle;\n",
       "    }\n",
       "\n",
       "    .dataframe tbody tr th {\n",
       "        vertical-align: top;\n",
       "    }\n",
       "\n",
       "    .dataframe thead th {\n",
       "        text-align: right;\n",
       "    }\n",
       "</style>\n",
       "<table border=\"1\" class=\"dataframe\">\n",
       "  <thead>\n",
       "    <tr style=\"text-align: right;\">\n",
       "      <th></th>\n",
       "      <th>DATE</th>\n",
       "      <th>state</th>\n",
       "      <th>HouseIdx</th>\n",
       "      <th>MedIncome</th>\n",
       "      <th>Unemployment</th>\n",
       "    </tr>\n",
       "  </thead>\n",
       "  <tbody>\n",
       "    <tr>\n",
       "      <th>0</th>\n",
       "      <td>1990</td>\n",
       "      <td>CA</td>\n",
       "      <td>100.471193</td>\n",
       "      <td>64124.0</td>\n",
       "      <td>5.2</td>\n",
       "    </tr>\n",
       "    <tr>\n",
       "      <th>3</th>\n",
       "      <td>1991</td>\n",
       "      <td>CA</td>\n",
       "      <td>95.569015</td>\n",
       "      <td>62568.0</td>\n",
       "      <td>7.1</td>\n",
       "    </tr>\n",
       "    <tr>\n",
       "      <th>6</th>\n",
       "      <td>1992</td>\n",
       "      <td>CA</td>\n",
       "      <td>92.786926</td>\n",
       "      <td>63297.0</td>\n",
       "      <td>8.6</td>\n",
       "    </tr>\n",
       "    <tr>\n",
       "      <th>9</th>\n",
       "      <td>1993</td>\n",
       "      <td>CA</td>\n",
       "      <td>85.246295</td>\n",
       "      <td>60272.0</td>\n",
       "      <td>9.8</td>\n",
       "    </tr>\n",
       "    <tr>\n",
       "      <th>12</th>\n",
       "      <td>1994</td>\n",
       "      <td>CA</td>\n",
       "      <td>77.395052</td>\n",
       "      <td>61219.0</td>\n",
       "      <td>9.3</td>\n",
       "    </tr>\n",
       "    <tr>\n",
       "      <th>...</th>\n",
       "      <td>...</td>\n",
       "      <td>...</td>\n",
       "      <td>...</td>\n",
       "      <td>...</td>\n",
       "      <td>...</td>\n",
       "    </tr>\n",
       "    <tr>\n",
       "      <th>74</th>\n",
       "      <td>2014</td>\n",
       "      <td>PA</td>\n",
       "      <td>206.947728</td>\n",
       "      <td>60385.0</td>\n",
       "      <td>6.5</td>\n",
       "    </tr>\n",
       "    <tr>\n",
       "      <th>77</th>\n",
       "      <td>2015</td>\n",
       "      <td>PA</td>\n",
       "      <td>208.677717</td>\n",
       "      <td>65980.0</td>\n",
       "      <td>5.5</td>\n",
       "    </tr>\n",
       "    <tr>\n",
       "      <th>80</th>\n",
       "      <td>2016</td>\n",
       "      <td>PA</td>\n",
       "      <td>212.055794</td>\n",
       "      <td>65776.0</td>\n",
       "      <td>5.3</td>\n",
       "    </tr>\n",
       "    <tr>\n",
       "      <th>83</th>\n",
       "      <td>2017</td>\n",
       "      <td>PA</td>\n",
       "      <td>218.146440</td>\n",
       "      <td>64714.0</td>\n",
       "      <td>5.2</td>\n",
       "    </tr>\n",
       "    <tr>\n",
       "      <th>86</th>\n",
       "      <td>2018</td>\n",
       "      <td>PA</td>\n",
       "      <td>222.989104</td>\n",
       "      <td>66513.0</td>\n",
       "      <td>4.8</td>\n",
       "    </tr>\n",
       "  </tbody>\n",
       "</table>\n",
       "<p>87 rows × 5 columns</p>\n",
       "</div>"
      ],
      "text/plain": [
       "    DATE state    HouseIdx  MedIncome  Unemployment\n",
       "0   1990    CA  100.471193    64124.0           5.2\n",
       "3   1991    CA   95.569015    62568.0           7.1\n",
       "6   1992    CA   92.786926    63297.0           8.6\n",
       "9   1993    CA   85.246295    60272.0           9.8\n",
       "12  1994    CA   77.395052    61219.0           9.3\n",
       "..   ...   ...         ...        ...           ...\n",
       "74  2014    PA  206.947728    60385.0           6.5\n",
       "77  2015    PA  208.677717    65980.0           5.5\n",
       "80  2016    PA  212.055794    65776.0           5.3\n",
       "83  2017    PA  218.146440    64714.0           5.2\n",
       "86  2018    PA  222.989104    66513.0           4.8\n",
       "\n",
       "[87 rows x 5 columns]"
      ]
     },
     "execution_count": 8,
     "metadata": {},
     "output_type": "execute_result"
    }
   ],
   "source": [
    "year_state_tall"
   ]
  },
  {
   "cell_type": "code",
   "execution_count": 10,
   "id": "d2cbf6d4",
   "metadata": {},
   "outputs": [
    {
     "data": {
      "text/plain": [
       "<AxesSubplot:ylabel='MedIncome'>"
      ]
     },
     "execution_count": 10,
     "metadata": {},
     "output_type": "execute_result"
    },
    {
     "data": {
      "image/png": "[encoded data removed]",
      "text/plain": [
       "<Figure size 432x288 with 1 Axes>"
      ]
     },
     "metadata": {
      "needs_background": "light"
     },
     "output_type": "display_data"
    }
   ],
   "source": [
    "sns.lineplot(data=year_state_tall, y = \"MedIncome\", x = )"
   ]
  },
  {
   "cell_type": "code",
   "execution_count": null,
   "id": "48efc35c",
   "metadata": {},
   "outputs": [],
   "source": []
  }
 ],
 "metadata": {
  "kernelspec": {
   "display_name": "Python 3 (ipykernel)",
   "language": "python",
   "name": "python3"
  },
  "language_info": {
   "codemirror_mode": {
    "name": "ipython",
    "version": 3
   },
   "file_extension": ".py",
   "mimetype": "text/x-python",
   "name": "python",
   "nbconvert_exporter": "python",
   "pygments_lexer": "ipython3",
   "version": "3.9.7"
  }
 },
 "nbformat": 4,
 "nbformat_minor": 5
}
